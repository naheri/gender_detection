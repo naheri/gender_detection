{
 "cells": [
  {
   "cell_type": "markdown",
   "metadata": {},
   "source": [
    "# using data generators\n",
    "\n"
   ]
  },
  {
   "attachments": {},
   "cell_type": "markdown",
   "metadata": {},
   "source": [
    "## Fine tuning"
   ]
  },
  {
   "cell_type": "code",
   "execution_count": 1,
   "metadata": {},
   "outputs": [],
   "source": [
    "from keras.preprocessing.image import ImageDataGenerator\n",
    "from keras.utils import load_img, img_to_array, to_categorical\n",
    "from keras.callbacks import ModelCheckpoint\n",
    "from keras.optimizers import Adam\n",
    "from keras.callbacks import EarlyStopping\n",
    "import tensorflow as tf\n",
    "from keras.models import load_model\n",
    "from sklearn.metrics import classification_report, confusion_matrix\n",
    "import numpy as np\n",
    "import seaborn as sns\n",
    "import pandas as pd\n",
    "import datetime\n",
    "from keras.utils import plot_model\n",
    "import cv2\n",
    "# Load the TensorBoard notebook extension\n",
    "%load_ext tensorboard"
   ]
  },
  {
   "attachments": {},
   "cell_type": "markdown",
   "metadata": {},
   "source": [
    "## GPU and version test\n"
   ]
  },
  {
   "cell_type": "code",
   "execution_count": 7,
   "metadata": {},
   "outputs": [
    {
     "name": "stdout",
     "output_type": "stream",
     "text": [
      "Num GPUs: 1\n",
      "Tensorflow version: 2.9.2\n"
     ]
    }
   ],
   "source": [
    "physical_devices = tf.config.list_physical_devices('GPU')\n",
    "print(\"Num GPUs:\", len(physical_devices))\n",
    "# tensorflow version\n",
    "print('Tensorflow version:', tf.__version__)"
   ]
  },
  {
   "cell_type": "code",
   "execution_count": 8,
   "metadata": {},
   "outputs": [],
   "source": [
    "train_dir = 'dataset/Train'\n",
    "test_dir = 'dataset/Test'"
   ]
  },
  {
   "attachments": {},
   "cell_type": "markdown",
   "metadata": {},
   "source": [
    "## Data augmentation\n"
   ]
  },
  {
   "cell_type": "code",
   "execution_count": 10,
   "metadata": {},
   "outputs": [],
   "source": [
    "aug_train = ImageDataGenerator(\n",
    "    rescale=1./255,\n",
    "    validation_split=0.2,\n",
    "    zoom_range=0.2,\n",
    "    horizontal_flip=True,\n",
    ")\n",
    "aug_test = ImageDataGenerator(\n",
    "    rescale=1./255,\n",
    ")\n",
    "# optional\n",
    "aug_validation = ImageDataGenerator(\n",
    "    rescale=1./255,\n",
    ")"
   ]
  },
  {
   "cell_type": "code",
   "execution_count": 11,
   "metadata": {},
   "outputs": [
    {
     "name": "stdout",
     "output_type": "stream",
     "text": [
      "Found 37608 images belonging to 2 classes.\n",
      "Found 9401 images belonging to 2 classes.\n",
      "Found 200 images belonging to 2 classes.\n",
      "{'female': 0, 'male': 1}\n"
     ]
    }
   ],
   "source": [
    "# Awesome HyperParameters!!!\n",
    "TARGET_SIZE = (64, 64)\n",
    "BATCH_SIZE = 32\n",
    "CLASS_MODE = 'binary'  # 2 classes (0, 1)\n",
    "learning_rate = 1e-3\n",
    "epochs = 15\n",
    "\n",
    "\n",
    "\n",
    "\n",
    "# Connecting the ImageDataGenerator objects to our dataset\n",
    "train_generator = aug_train.flow_from_directory(train_dir,\n",
    "                                                 target_size=TARGET_SIZE,\n",
    "                                                 subset='training',\n",
    "                                                 batch_size=BATCH_SIZE,\n",
    "                                                 class_mode=CLASS_MODE)\n",
    "\n",
    "validation_generator = aug_train.flow_from_directory(train_dir,\n",
    "                                                      target_size=TARGET_SIZE,\n",
    "                                                      subset='validation',\n",
    "                                                      batch_size=BATCH_SIZE,\n",
    "                                                      class_mode=CLASS_MODE)\n",
    "test_generator = aug_test.flow_from_directory(test_dir,\n",
    "                                               target_size=TARGET_SIZE,\n",
    "                                               batch_size=BATCH_SIZE,\n",
    "                                               class_mode=CLASS_MODE)\n",
    "\n",
    "num_of_train_samples = train_generator.n\n",
    "num_of_val_samples = validation_generator.n\n",
    "num_of_test_samples = test_generator.n\n",
    "print(train_generator.class_indices)"
   ]
  },
  {
   "cell_type": "code",
   "execution_count": 12,
   "metadata": {},
   "outputs": [],
   "source": [
    "# Importing Libraries\n",
    "from keras.models import Sequential\n",
    "from keras.layers import Conv2D, MaxPooling2D, Dropout, Flatten, Dense,Activation,BatchNormalization, GlobalAveragePooling2D\n",
    "from keras.optimizers import Adam\n",
    "from keras.losses import BinaryCrossentropy\n",
    "from keras.preprocessing.image import ImageDataGenerator\n",
    "from keras.metrics import FalsePositives,FalseNegatives,BinaryAccuracy,TrueNegatives,TruePositives\n",
    "import matplotlib.pyplot as plt"
   ]
  },
  {
   "cell_type": "code",
   "execution_count": 13,
   "metadata": {},
   "outputs": [
    {
     "name": "stdout",
     "output_type": "stream",
     "text": [
      "Model: \"sequential\"\n",
      "_________________________________________________________________\n",
      " Layer (type)                Output Shape              Param #   \n",
      "=================================================================\n",
      " conv2d (Conv2D)             (None, 64, 64, 32)        2432      \n",
      "                                                                 \n",
      " max_pooling2d (MaxPooling2D  (None, 32, 32, 32)       0         \n",
      " )                                                               \n",
      "                                                                 \n",
      " dropout (Dropout)           (None, 32, 32, 32)        0         \n",
      "                                                                 \n",
      " conv2d_1 (Conv2D)           (None, 32, 32, 64)        51264     \n",
      "                                                                 \n",
      " max_pooling2d_1 (MaxPooling  (None, 16, 16, 64)       0         \n",
      " 2D)                                                             \n",
      "                                                                 \n",
      " dropout_1 (Dropout)         (None, 16, 16, 64)        0         \n",
      "                                                                 \n",
      " conv2d_2 (Conv2D)           (None, 16, 16, 64)        102464    \n",
      "                                                                 \n",
      " max_pooling2d_2 (MaxPooling  (None, 8, 8, 64)         0         \n",
      " 2D)                                                             \n",
      "                                                                 \n",
      " dropout_2 (Dropout)         (None, 8, 8, 64)          0         \n",
      "                                                                 \n",
      " flatten (Flatten)           (None, 4096)              0         \n",
      "                                                                 \n",
      " dense (Dense)               (None, 128)               524416    \n",
      "                                                                 \n",
      " dropout_3 (Dropout)         (None, 128)               0         \n",
      "                                                                 \n",
      " dense_1 (Dense)             (None, 1)                 129       \n",
      "                                                                 \n",
      "=================================================================\n",
      "Total params: 680,705\n",
      "Trainable params: 680,705\n",
      "Non-trainable params: 0\n",
      "_________________________________________________________________\n"
     ]
    },
    {
     "name": "stderr",
     "output_type": "stream",
     "text": [
      "2023-01-10 08:44:21.867746: I tensorflow/core/common_runtime/pluggable_device/pluggable_device_factory.cc:305] Could not identify NUMA node of platform GPU ID 0, defaulting to 0. Your kernel may not have been built with NUMA support.\n",
      "2023-01-10 08:44:21.867771: I tensorflow/core/common_runtime/pluggable_device/pluggable_device_factory.cc:271] Created TensorFlow device (/job:localhost/replica:0/task:0/device:GPU:0 with 0 MB memory) -> physical PluggableDevice (device: 0, name: METAL, pci bus id: <undefined>)\n"
     ]
    }
   ],
   "source": [
    "\n",
    "# Building CNN Model\n",
    "model = Sequential()\n",
    "model.add(Conv2D(32, (5,5), padding='same', activation='relu',\n",
    "                input_shape=(64, 64, 3)))\n",
    "model.add(MaxPooling2D(pool_size=(2,2)))\n",
    "model.add(Dropout(0.2))\n",
    "model.add(Conv2D(64, (5,5), padding='same', activation='relu'))\n",
    "model.add(MaxPooling2D(pool_size=(2,2)))\n",
    "model.add(Dropout(0.2))\n",
    "model.add(Conv2D(64, (5,5), padding='same', activation='relu'))\n",
    "model.add(MaxPooling2D(pool_size=(2,2)))\n",
    "model.add(Dropout(0.2))\n",
    "model.add(Flatten())\n",
    "\n",
    "model.add(Dense(128, activation='relu'))\n",
    "model.add(Dropout(0.2))\n",
    "model.add(Dense(1, activation='sigmoid'))\n",
    "\n",
    "model.compile(optimizer=Adam(learning_rate=learning_rate, decay = learning_rate/epochs),\n",
    "              loss=BinaryCrossentropy(),\n",
    "              metrics=[BinaryAccuracy(),\n",
    "                      FalseNegatives(),\n",
    "                      FalsePositives(),\n",
    "                          TrueNegatives(),\n",
    "                            TruePositives(),\n",
    "                      'accuracy',\n",
    "])\n",
    "model.summary()\n",
    "\n"
   ]
  },
  {
   "cell_type": "code",
   "execution_count": 14,
   "metadata": {},
   "outputs": [
    {
     "name": "stdout",
     "output_type": "stream",
     "text": [
      "Epoch 1/15\n"
     ]
    },
    {
     "name": "stderr",
     "output_type": "stream",
     "text": [
      "2023-01-10 08:44:23.388068: W tensorflow/core/platform/profile_utils/cpu_utils.cc:128] Failed to get CPU frequency: 0 Hz\n",
      "2023-01-10 08:44:23.808063: I tensorflow/core/grappler/optimizers/custom_graph_optimizer_registry.cc:113] Plugin optimizer for device_type GPU is enabled.\n"
     ]
    },
    {
     "name": "stdout",
     "output_type": "stream",
     "text": [
      "1176/1176 [==============================] - ETA: 0s - loss: 0.3171 - binary_accuracy: 0.8564 - false_negatives: 2443.0000 - false_positives: 2957.0000 - true_negatives: 15638.0000 - true_positives: 16570.0000 - accuracy: 0.8564"
     ]
    },
    {
     "name": "stderr",
     "output_type": "stream",
     "text": [
      "2023-01-10 08:44:59.145198: I tensorflow/core/grappler/optimizers/custom_graph_optimizer_registry.cc:113] Plugin optimizer for device_type GPU is enabled.\n"
     ]
    },
    {
     "name": "stdout",
     "output_type": "stream",
     "text": [
      "1176/1176 [==============================] - 44s 37ms/step - loss: 0.3171 - binary_accuracy: 0.8564 - false_negatives: 2443.0000 - false_positives: 2957.0000 - true_negatives: 15638.0000 - true_positives: 16570.0000 - accuracy: 0.8564 - val_loss: 0.1702 - val_binary_accuracy: 0.9359 - val_false_negatives: 234.0000 - val_false_positives: 369.0000 - val_true_negatives: 4279.0000 - val_true_positives: 4519.0000 - val_accuracy: 0.9359\n",
      "Epoch 2/15\n",
      "1176/1176 [==============================] - 42s 36ms/step - loss: 0.1833 - binary_accuracy: 0.9309 - false_negatives: 1220.0000 - false_positives: 1377.0000 - true_negatives: 17218.0000 - true_positives: 17793.0000 - accuracy: 0.9309 - val_loss: 0.1347 - val_binary_accuracy: 0.9525 - val_false_negatives: 229.0000 - val_false_positives: 218.0000 - val_true_negatives: 4430.0000 - val_true_positives: 4524.0000 - val_accuracy: 0.9525\n",
      "Epoch 3/15\n",
      "1176/1176 [==============================] - 42s 36ms/step - loss: 0.1652 - binary_accuracy: 0.9397 - false_negatives: 1073.0000 - false_positives: 1196.0000 - true_negatives: 17399.0000 - true_positives: 17940.0000 - accuracy: 0.9397 - val_loss: 0.1389 - val_binary_accuracy: 0.9482 - val_false_negatives: 358.0000 - val_false_positives: 129.0000 - val_true_negatives: 4519.0000 - val_true_positives: 4395.0000 - val_accuracy: 0.9482\n",
      "Epoch 4/15\n",
      "1176/1176 [==============================] - 42s 35ms/step - loss: 0.1511 - binary_accuracy: 0.9458 - false_negatives: 987.0000 - false_positives: 1050.0000 - true_negatives: 17545.0000 - true_positives: 18026.0000 - accuracy: 0.9458 - val_loss: 0.1244 - val_binary_accuracy: 0.9560 - val_false_negatives: 232.0000 - val_false_positives: 182.0000 - val_true_negatives: 4466.0000 - val_true_positives: 4521.0000 - val_accuracy: 0.9560\n",
      "Epoch 5/15\n",
      "1176/1176 [==============================] - 42s 36ms/step - loss: 0.1425 - binary_accuracy: 0.9481 - false_negatives: 958.0000 - false_positives: 994.0000 - true_negatives: 17601.0000 - true_positives: 18055.0000 - accuracy: 0.9481 - val_loss: 0.1174 - val_binary_accuracy: 0.9580 - val_false_negatives: 146.0000 - val_false_positives: 249.0000 - val_true_negatives: 4399.0000 - val_true_positives: 4607.0000 - val_accuracy: 0.9580\n",
      "Epoch 6/15\n",
      "1176/1176 [==============================] - 42s 36ms/step - loss: 0.1373 - binary_accuracy: 0.9500 - false_negatives: 949.0000 - false_positives: 931.0000 - true_negatives: 17664.0000 - true_positives: 18064.0000 - accuracy: 0.9500 - val_loss: 0.1147 - val_binary_accuracy: 0.9595 - val_false_negatives: 218.0000 - val_false_positives: 163.0000 - val_true_negatives: 4485.0000 - val_true_positives: 4535.0000 - val_accuracy: 0.9595\n",
      "Epoch 7/15\n",
      "1176/1176 [==============================] - 42s 36ms/step - loss: 0.1318 - binary_accuracy: 0.9518 - false_negatives: 889.0000 - false_positives: 922.0000 - true_negatives: 17673.0000 - true_positives: 18124.0000 - accuracy: 0.9518 - val_loss: 0.1075 - val_binary_accuracy: 0.9612 - val_false_negatives: 159.0000 - val_false_positives: 206.0000 - val_true_negatives: 4442.0000 - val_true_positives: 4594.0000 - val_accuracy: 0.9612\n",
      "Epoch 8/15\n",
      "1176/1176 [==============================] - 42s 36ms/step - loss: 0.1292 - binary_accuracy: 0.9538 - false_negatives: 856.0000 - false_positives: 880.0000 - true_negatives: 17715.0000 - true_positives: 18157.0000 - accuracy: 0.9538 - val_loss: 0.1061 - val_binary_accuracy: 0.9617 - val_false_negatives: 151.0000 - val_false_positives: 209.0000 - val_true_negatives: 4439.0000 - val_true_positives: 4602.0000 - val_accuracy: 0.9617\n",
      "Epoch 9/15\n",
      "1176/1176 [==============================] - 42s 36ms/step - loss: 0.1234 - binary_accuracy: 0.9560 - false_negatives: 821.0000 - false_positives: 835.0000 - true_negatives: 17760.0000 - true_positives: 18192.0000 - accuracy: 0.9560 - val_loss: 0.1008 - val_binary_accuracy: 0.9659 - val_false_negatives: 165.0000 - val_false_positives: 156.0000 - val_true_negatives: 4492.0000 - val_true_positives: 4588.0000 - val_accuracy: 0.9659\n",
      "Epoch 10/15\n",
      "1176/1176 [==============================] - 42s 36ms/step - loss: 0.1215 - binary_accuracy: 0.9559 - false_negatives: 820.0000 - false_positives: 839.0000 - true_negatives: 17756.0000 - true_positives: 18193.0000 - accuracy: 0.9559 - val_loss: 0.1104 - val_binary_accuracy: 0.9623 - val_false_negatives: 172.0000 - val_false_positives: 182.0000 - val_true_negatives: 4466.0000 - val_true_positives: 4581.0000 - val_accuracy: 0.9623\n",
      "Epoch 11/15\n",
      "1176/1176 [==============================] - 42s 36ms/step - loss: 0.1178 - binary_accuracy: 0.9577 - false_negatives: 794.0000 - false_positives: 796.0000 - true_negatives: 17799.0000 - true_positives: 18219.0000 - accuracy: 0.9577 - val_loss: 0.1034 - val_binary_accuracy: 0.9662 - val_false_negatives: 231.0000 - val_false_positives: 87.0000 - val_true_negatives: 4561.0000 - val_true_positives: 4522.0000 - val_accuracy: 0.9662\n",
      "Epoch 12/15\n",
      "1176/1176 [==============================] - 43s 36ms/step - loss: 0.1141 - binary_accuracy: 0.9584 - false_negatives: 793.0000 - false_positives: 770.0000 - true_negatives: 17825.0000 - true_positives: 18220.0000 - accuracy: 0.9584 - val_loss: 0.0968 - val_binary_accuracy: 0.9654 - val_false_negatives: 164.0000 - val_false_positives: 161.0000 - val_true_negatives: 4487.0000 - val_true_positives: 4589.0000 - val_accuracy: 0.9654\n",
      "Epoch 13/15\n",
      "1176/1176 [==============================] - 43s 37ms/step - loss: 0.1120 - binary_accuracy: 0.9596 - false_negatives: 747.0000 - false_positives: 772.0000 - true_negatives: 17823.0000 - true_positives: 18266.0000 - accuracy: 0.9596 - val_loss: 0.0969 - val_binary_accuracy: 0.9669 - val_false_negatives: 179.0000 - val_false_positives: 132.0000 - val_true_negatives: 4516.0000 - val_true_positives: 4574.0000 - val_accuracy: 0.9669\n",
      "Epoch 14/15\n",
      "1176/1176 [==============================] - 43s 37ms/step - loss: 0.1083 - binary_accuracy: 0.9619 - false_negatives: 697.0000 - false_positives: 737.0000 - true_negatives: 17858.0000 - true_positives: 18316.0000 - accuracy: 0.9619 - val_loss: 0.0931 - val_binary_accuracy: 0.9671 - val_false_negatives: 173.0000 - val_false_positives: 136.0000 - val_true_negatives: 4512.0000 - val_true_positives: 4580.0000 - val_accuracy: 0.9671\n",
      "Epoch 15/15\n",
      "1176/1176 [==============================] - 42s 36ms/step - loss: 0.1094 - binary_accuracy: 0.9616 - false_negatives: 727.0000 - false_positives: 719.0000 - true_negatives: 17876.0000 - true_positives: 18286.0000 - accuracy: 0.9616 - val_loss: 0.0997 - val_binary_accuracy: 0.9637 - val_false_negatives: 158.0000 - val_false_positives: 183.0000 - val_true_negatives: 4465.0000 - val_true_positives: 4595.0000 - val_accuracy: 0.9637\n"
     ]
    }
   ],
   "source": [
    "log_dir = \"logs/fit/\" + datetime.datetime.now().strftime(\"%Y%m%d-%H%M%S\")\n",
    "tensorboard_callback = tf.keras.callbacks.TensorBoard(log_dir=log_dir, histogram_freq=1)\n",
    "H = model.fit(train_generator,\n",
    "        epochs = epochs,\n",
    "        verbose = 1,\n",
    "        validation_data = validation_generator,\n",
    "        # We don't want to save just the weight, but also the model architecture\n",
    "         callbacks= [ModelCheckpoint('models1/model_{val_accuracy:.3f}.h5',\n",
    "                                           save_best_only=True,\n",
    "                                           save_weights_only=False,\n",
    "                                           monitor='val_accuracy',\n",
    "                                             ),tensorboard_callback]\n",
    "        )"
   ]
  },
  {
   "attachments": {},
   "cell_type": "markdown",
   "metadata": {},
   "source": [
    "## Model Loading"
   ]
  },
  {
   "cell_type": "code",
   "execution_count": 15,
   "metadata": {},
   "outputs": [],
   "source": [
    "\n",
    "model = tf.keras.models.load_model('models1/model_0.967.h5')"
   ]
  },
  {
   "attachments": {},
   "cell_type": "markdown",
   "metadata": {},
   "source": [
    "# Model Evaluation"
   ]
  },
  {
   "cell_type": "code",
   "execution_count": 13,
   "metadata": {},
   "outputs": [
    {
     "name": "stdout",
     "output_type": "stream",
     "text": [
      "1/7 [===>..........................] - ETA: 1s - loss: 0.1114 - binary_accuracy: 0.9688 - false_negatives: 0.0000e+00 - false_positives: 1.0000 - true_negatives: 11.0000 - true_positives: 20.0000 - accuracy: 0.9688"
     ]
    },
    {
     "name": "stderr",
     "output_type": "stream",
     "text": [
      "2023-01-10 08:22:26.868377: I tensorflow/core/grappler/optimizers/custom_graph_optimizer_registry.cc:113] Plugin optimizer for device_type GPU is enabled.\n"
     ]
    },
    {
     "name": "stdout",
     "output_type": "stream",
     "text": [
      "7/7 [==============================] - 1s 38ms/step - loss: 0.0533 - binary_accuracy: 0.9800 - false_negatives: 1.0000 - false_positives: 3.0000 - true_negatives: 97.0000 - true_positives: 99.0000 - accuracy: 0.9800\n",
      "Test loss: 0.05327509716153145 Test Acc: 0.9799999594688416\n"
     ]
    }
   ],
   "source": [
    "from keras.metrics import binary_accuracy\n",
    "# Getting test accuracy and loss\n",
    "score = model.evaluate(test_generator)\n",
    "print(f'Test loss: {score[0]} Test Acc: {score[1]}')\n",
    "\n"
   ]
  },
  {
   "cell_type": "code",
   "execution_count": 14,
   "metadata": {},
   "outputs": [
    {
     "data": {
      "image/png": "[encoded data removed]",
      "text/plain": [
       "<Figure size 1000x500 with 2 Axes>"
      ]
     },
     "metadata": {},
     "output_type": "display_data"
    }
   ],
   "source": [
    "import matplotlib.pyplot as plt\n",
    "%matplotlib inline\n",
    "# Plot the model, initialize figure and axes\n",
    "fig, axs = plt.subplots(nrows=1, ncols=2, figsize=(10, 5))\n",
    "\n",
    "# Plot training and validation loss\n",
    "axs[0].plot(H.history['loss'])\n",
    "axs[0].plot(H.history['val_loss'])\n",
    "axs[0].legend(['Training', 'Validation'])\n",
    "axs[0].set_title('Training and Validation Losses')\n",
    "axs[0].set_xlabel('epochs')\n",
    "\n",
    "# Plot training and validation accuracy\n",
    "axs[1].plot(H.history['accuracy'])\n",
    "axs[1].plot(H.history['val_accuracy'])\n",
    "axs[1].legend(['Training', 'Validation'])\n",
    "axs[0].set_title('Training and Validation Accuracy')\n",
    "axs[1].set_xlabel('epochs')\n",
    "\n",
    "plt.show()"
   ]
  },
  {
   "attachments": {},
   "cell_type": "markdown",
   "metadata": {},
   "source": [
    "## Predictions on new test data"
   ]
  },
  {
   "cell_type": "code",
   "execution_count": 15,
   "metadata": {},
   "outputs": [
    {
     "name": "stdout",
     "output_type": "stream",
     "text": [
      "1/1 [==============================] - 0s 224ms/step\n"
     ]
    },
    {
     "name": "stderr",
     "output_type": "stream",
     "text": [
      "2023-01-10 08:23:14.692726: I tensorflow/core/grappler/optimizers/custom_graph_optimizer_registry.cc:113] Plugin optimizer for device_type GPU is enabled.\n"
     ]
    },
    {
     "name": "stdout",
     "output_type": "stream",
     "text": [
      "1/1 [==============================] - 0s 11ms/step\n",
      "1/1 [==============================] - 0s 12ms/step\n",
      "1/1 [==============================] - 0s 12ms/step\n",
      "1/1 [==============================] - 0s 12ms/step\n",
      "1/1 [==============================] - 0s 12ms/step\n",
      "1/1 [==============================] - 0s 12ms/step\n",
      "1/1 [==============================] - 0s 12ms/step\n",
      "1/1 [==============================] - 0s 11ms/step\n",
      "1/1 [==============================] - 0s 12ms/step\n",
      "1/1 [==============================] - 0s 11ms/step\n",
      "1/1 [==============================] - 0s 10ms/step\n",
      "1/1 [==============================] - 0s 11ms/step\n",
      "1/1 [==============================] - 0s 12ms/step\n",
      "1/1 [==============================] - 0s 11ms/step\n",
      "1/1 [==============================] - 0s 11ms/step\n",
      "1/1 [==============================] - 0s 11ms/step\n",
      "1/1 [==============================] - 0s 11ms/step\n",
      "1/1 [==============================] - 0s 13ms/step\n",
      "1/1 [==============================] - 0s 11ms/step\n",
      "1/1 [==============================] - 0s 12ms/step\n",
      "1/1 [==============================] - 0s 11ms/step\n",
      "1/1 [==============================] - 0s 12ms/step\n",
      "1/1 [==============================] - 0s 12ms/step\n",
      "1/1 [==============================] - 0s 12ms/step\n",
      "1/1 [==============================] - 0s 12ms/step\n",
      "1/1 [==============================] - 0s 13ms/step\n",
      "1/1 [==============================] - 0s 13ms/step\n",
      "1/1 [==============================] - 0s 12ms/step\n",
      "1/1 [==============================] - 0s 13ms/step\n",
      "1/1 [==============================] - 0s 12ms/step\n",
      "1/1 [==============================] - 0s 12ms/step\n",
      "1/1 [==============================] - 0s 12ms/step\n",
      "1/1 [==============================] - 0s 12ms/step\n",
      "1/1 [==============================] - 0s 11ms/step\n",
      "1/1 [==============================] - 0s 11ms/step\n",
      "1/1 [==============================] - 0s 11ms/step\n",
      "1/1 [==============================] - 0s 12ms/step\n",
      "1/1 [==============================] - 0s 12ms/step\n",
      "1/1 [==============================] - 0s 11ms/step\n",
      "1/1 [==============================] - 0s 12ms/step\n",
      "1/1 [==============================] - 0s 12ms/step\n",
      "1/1 [==============================] - 0s 11ms/step\n",
      "1/1 [==============================] - 0s 13ms/step\n",
      "1/1 [==============================] - 0s 13ms/step\n",
      "1/1 [==============================] - 0s 12ms/step\n",
      "1/1 [==============================] - 0s 12ms/step\n",
      "1/1 [==============================] - 0s 12ms/step\n",
      "1/1 [==============================] - 0s 13ms/step\n",
      "1/1 [==============================] - 0s 13ms/step\n",
      "1/1 [==============================] - 0s 12ms/step\n",
      "1/1 [==============================] - 0s 13ms/step\n",
      "1/1 [==============================] - 0s 11ms/step\n",
      "1/1 [==============================] - 0s 12ms/step\n",
      "1/1 [==============================] - 0s 12ms/step\n",
      "1/1 [==============================] - 0s 11ms/step\n",
      "1/1 [==============================] - 0s 11ms/step\n",
      "1/1 [==============================] - 0s 11ms/step\n",
      "1/1 [==============================] - 0s 13ms/step\n",
      "1/1 [==============================] - 0s 11ms/step\n",
      "1/1 [==============================] - 0s 11ms/step\n",
      "1/1 [==============================] - 0s 11ms/step\n",
      "1/1 [==============================] - 0s 11ms/step\n",
      "1/1 [==============================] - 0s 11ms/step\n",
      "1/1 [==============================] - 0s 13ms/step\n",
      "1/1 [==============================] - 0s 11ms/step\n",
      "1/1 [==============================] - 0s 10ms/step\n",
      "1/1 [==============================] - 0s 18ms/step\n",
      "1/1 [==============================] - 0s 12ms/step\n",
      "1/1 [==============================] - 0s 12ms/step\n",
      "1/1 [==============================] - 0s 11ms/step\n",
      "1/1 [==============================] - 0s 12ms/step\n",
      "1/1 [==============================] - 0s 12ms/step\n",
      "1/1 [==============================] - 0s 12ms/step\n",
      "1/1 [==============================] - 0s 12ms/step\n",
      "1/1 [==============================] - 0s 12ms/step\n",
      "1/1 [==============================] - 0s 12ms/step\n",
      "1/1 [==============================] - 0s 12ms/step\n",
      "1/1 [==============================] - 0s 12ms/step\n",
      "1/1 [==============================] - 0s 12ms/step\n",
      "1/1 [==============================] - 0s 11ms/step\n",
      "1/1 [==============================] - 0s 11ms/step\n",
      "1/1 [==============================] - 0s 13ms/step\n",
      "1/1 [==============================] - 0s 12ms/step\n",
      "1/1 [==============================] - 0s 10ms/step\n",
      "1/1 [==============================] - 0s 12ms/step\n",
      "1/1 [==============================] - 0s 10ms/step\n",
      "1/1 [==============================] - 0s 11ms/step\n",
      "1/1 [==============================] - 0s 11ms/step\n",
      "1/1 [==============================] - 0s 11ms/step\n",
      "1/1 [==============================] - 0s 12ms/step\n",
      "1/1 [==============================] - 0s 11ms/step\n",
      "1/1 [==============================] - 0s 12ms/step\n",
      "1/1 [==============================] - 0s 14ms/step\n",
      "1/1 [==============================] - 0s 12ms/step\n",
      "1/1 [==============================] - 0s 13ms/step\n",
      "1/1 [==============================] - 0s 21ms/step\n",
      "1/1 [==============================] - 0s 14ms/step\n",
      "1/1 [==============================] - 0s 13ms/step\n",
      "1/1 [==============================] - 0s 12ms/step\n",
      "1/1 [==============================] - 0s 10ms/step\n",
      "1/1 [==============================] - 0s 13ms/step\n",
      "1/1 [==============================] - 0s 11ms/step\n",
      "1/1 [==============================] - 0s 11ms/step\n",
      "1/1 [==============================] - 0s 11ms/step\n",
      "1/1 [==============================] - 0s 11ms/step\n",
      "1/1 [==============================] - 0s 11ms/step\n",
      "1/1 [==============================] - 0s 12ms/step\n",
      "1/1 [==============================] - 0s 11ms/step\n",
      "1/1 [==============================] - 0s 10ms/step\n",
      "1/1 [==============================] - 0s 12ms/step\n",
      "1/1 [==============================] - 0s 11ms/step\n",
      "1/1 [==============================] - 0s 13ms/step\n",
      "1/1 [==============================] - 0s 11ms/step\n",
      "1/1 [==============================] - 0s 11ms/step\n",
      "1/1 [==============================] - 0s 12ms/step\n",
      "1/1 [==============================] - 0s 11ms/step\n",
      "1/1 [==============================] - 0s 13ms/step\n",
      "1/1 [==============================] - 0s 11ms/step\n",
      "1/1 [==============================] - 0s 11ms/step\n",
      "1/1 [==============================] - 0s 13ms/step\n",
      "1/1 [==============================] - 0s 12ms/step\n",
      "1/1 [==============================] - 0s 11ms/step\n",
      "1/1 [==============================] - 0s 11ms/step\n",
      "1/1 [==============================] - 0s 11ms/step\n",
      "1/1 [==============================] - 0s 11ms/step\n",
      "1/1 [==============================] - 0s 11ms/step\n",
      "1/1 [==============================] - 0s 11ms/step\n",
      "1/1 [==============================] - 0s 11ms/step\n",
      "1/1 [==============================] - 0s 11ms/step\n",
      "1/1 [==============================] - 0s 12ms/step\n",
      "1/1 [==============================] - 0s 12ms/step\n",
      "1/1 [==============================] - 0s 11ms/step\n",
      "1/1 [==============================] - 0s 11ms/step\n",
      "1/1 [==============================] - 0s 12ms/step\n",
      "1/1 [==============================] - 0s 11ms/step\n",
      "1/1 [==============================] - 0s 11ms/step\n",
      "1/1 [==============================] - 0s 11ms/step\n",
      "1/1 [==============================] - 0s 11ms/step\n",
      "1/1 [==============================] - 0s 11ms/step\n",
      "1/1 [==============================] - 0s 11ms/step\n",
      "1/1 [==============================] - 0s 12ms/step\n",
      "1/1 [==============================] - 0s 11ms/step\n",
      "1/1 [==============================] - 0s 13ms/step\n",
      "1/1 [==============================] - 0s 11ms/step\n",
      "1/1 [==============================] - 0s 11ms/step\n",
      "1/1 [==============================] - 0s 11ms/step\n",
      "1/1 [==============================] - 0s 11ms/step\n",
      "1/1 [==============================] - 0s 11ms/step\n",
      "1/1 [==============================] - 0s 11ms/step\n",
      "1/1 [==============================] - 0s 11ms/step\n",
      "1/1 [==============================] - 0s 10ms/step\n",
      "1/1 [==============================] - 0s 11ms/step\n",
      "1/1 [==============================] - 0s 11ms/step\n",
      "1/1 [==============================] - 0s 11ms/step\n",
      "1/1 [==============================] - 0s 12ms/step\n",
      "1/1 [==============================] - 0s 12ms/step\n",
      "1/1 [==============================] - 0s 11ms/step\n",
      "1/1 [==============================] - 0s 13ms/step\n",
      "1/1 [==============================] - 0s 11ms/step\n",
      "1/1 [==============================] - 0s 11ms/step\n",
      "1/1 [==============================] - 0s 10ms/step\n",
      "1/1 [==============================] - 0s 10ms/step\n",
      "1/1 [==============================] - 0s 11ms/step\n",
      "1/1 [==============================] - 0s 11ms/step\n",
      "1/1 [==============================] - 0s 11ms/step\n",
      "1/1 [==============================] - 0s 12ms/step\n",
      "1/1 [==============================] - 0s 13ms/step\n",
      "1/1 [==============================] - 0s 11ms/step\n",
      "1/1 [==============================] - 0s 11ms/step\n",
      "1/1 [==============================] - 0s 11ms/step\n",
      "1/1 [==============================] - 0s 11ms/step\n",
      "1/1 [==============================] - 0s 12ms/step\n",
      "1/1 [==============================] - 0s 11ms/step\n",
      "1/1 [==============================] - 0s 10ms/step\n",
      "1/1 [==============================] - 0s 10ms/step\n",
      "1/1 [==============================] - 0s 11ms/step\n",
      "1/1 [==============================] - 0s 12ms/step\n",
      "1/1 [==============================] - 0s 12ms/step\n",
      "1/1 [==============================] - 0s 11ms/step\n",
      "1/1 [==============================] - 0s 12ms/step\n",
      "1/1 [==============================] - 0s 13ms/step\n",
      "1/1 [==============================] - 0s 11ms/step\n",
      "1/1 [==============================] - 0s 11ms/step\n",
      "1/1 [==============================] - 0s 11ms/step\n",
      "1/1 [==============================] - 0s 10ms/step\n",
      "1/1 [==============================] - 0s 11ms/step\n",
      "1/1 [==============================] - 0s 12ms/step\n",
      "1/1 [==============================] - 0s 12ms/step\n",
      "1/1 [==============================] - 0s 11ms/step\n",
      "1/1 [==============================] - 0s 11ms/step\n",
      "1/1 [==============================] - 0s 12ms/step\n",
      "1/1 [==============================] - 0s 11ms/step\n",
      "1/1 [==============================] - 0s 11ms/step\n",
      "1/1 [==============================] - 0s 10ms/step\n",
      "1/1 [==============================] - 0s 11ms/step\n",
      "1/1 [==============================] - 0s 11ms/step\n",
      "1/1 [==============================] - 0s 13ms/step\n",
      "1/1 [==============================] - 0s 11ms/step\n",
      "1/1 [==============================] - 0s 10ms/step\n"
     ]
    }
   ],
   "source": [
    "\n",
    "import os\n",
    "\n",
    "# Set the base path to the 'test' folder\n",
    "base_path = 'dataset/Test'\n",
    "\n",
    "# Set the paths to the 'male' and 'female' folders\n",
    "male_path = os.path.join(base_path, 'male')\n",
    "female_path = os.path.join(base_path, 'female')\n",
    "\n",
    "# Initialize an empty list to store the images\n",
    "test_images = []\n",
    "# Loop through the 'female' folder and append the images to the list\n",
    "for file_name in os.listdir(female_path):\n",
    "    file_path = os.path.join(female_path, file_name)\n",
    "    img = load_img(file_path)\n",
    "    img = img.resize((64, 64))\n",
    "    img = img_to_array(img)\n",
    "    prediction = model.predict(np.array([img]))\n",
    "    prediction = int(prediction[0][0])\n",
    "    test_images.append(prediction)\n",
    "# Loop through the 'male' folder and append the images to the list\n",
    "for file_name in os.listdir(male_path):\n",
    "    file_path = os.path.join(male_path, file_name)\n",
    "    img = load_img(file_path)\n",
    "    img = img.resize((64, 64))\n",
    "    img = img_to_array(img)\n",
    "    prediction = model.predict(np.array([img]))\n",
    "    prediction = int(prediction[0][0])\n",
    "    test_images.append(prediction)\n",
    "\n",
    "\n",
    "\n",
    "    \n",
    "\n",
    "\n",
    "\n"
   ]
  },
  {
   "attachments": {},
   "cell_type": "markdown",
   "metadata": {},
   "source": [
    "## Classification report & confusion matrix"
   ]
  },
  {
   "cell_type": "code",
   "execution_count": 16,
   "metadata": {},
   "outputs": [
    {
     "name": "stdout",
     "output_type": "stream",
     "text": [
      "              precision    recall  f1-score   support\n",
      "\n",
      "      female       0.99      0.98      0.98       100\n",
      "        male       0.98      0.99      0.99       100\n",
      "\n",
      "    accuracy                           0.98       200\n",
      "   macro avg       0.99      0.98      0.98       200\n",
      "weighted avg       0.99      0.98      0.98       200\n",
      "\n"
     ]
    },
    {
     "data": {
      "image/png": "[encoded data removed]",
      "text/plain": [
       "<Figure size 640x480 with 2 Axes>"
      ]
     },
     "metadata": {},
     "output_type": "display_data"
    }
   ],
   "source": [
    "from sklearn.metrics import classification_report,confusion_matrix\n",
    "\n",
    "print(classification_report(test_generator.classes, test_images, target_names=test_generator.class_indices.keys()))\n",
    "\n",
    "\n",
    "# Calculate the confusion matrix\n",
    "confusion_matrix = tf.math.confusion_matrix(test_generator.classes, test_images).numpy()\n",
    "\n",
    "# Plot the confusion matrix using seaborn\n",
    "sns.heatmap(confusion_matrix, annot=True, cmap=\"Blues\", fmt='g',xticklabels=[\"female\", \"male\"], yticklabels=[\"female\", \"male\"])\n",
    "plt.xlabel(\"Predicted label\")\n",
    "plt.ylabel(\"True label\")\n",
    "plt.title(\"Confusion Matrix\")\n",
    "plt.show()"
   ]
  },
  {
   "attachments": {},
   "cell_type": "markdown",
   "metadata": {},
   "source": [
    "# Single prediction, insert the path of any image that you want\n"
   ]
  },
  {
   "cell_type": "code",
   "execution_count": 162,
   "metadata": {},
   "outputs": [
    {
     "name": "stdout",
     "output_type": "stream",
     "text": [
      "1/1 [==============================] - 0s 14ms/step\n",
      "male\n"
     ]
    }
   ],
   "source": [
    "# Making a Single Prediction\n",
    "import numpy as np\n",
    "from keras.preprocessing import image\n",
    "\n",
    "\n",
    "# load and resize image to 200x200\n",
    "test_image = load_img('rgender_ds/gender/test/male/011.jpg',\n",
    "                            target_size=TARGET_SIZE)\n",
    "\n",
    "# convert image to numpy array\n",
    "images = img_to_array(test_image)\n",
    "# expand dimension of image\n",
    "images = np.expand_dims(images, axis=0)\n",
    "# making prediction with model\n",
    "prediction = model.predict(images)\n",
    "    \n",
    "if prediction == 0:\n",
    "  print('female')\n",
    "else:\n",
    "  print('male')"
   ]
  },
  {
   "attachments": {},
   "cell_type": "markdown",
   "metadata": {},
   "source": [
    "# Tensorboard"
   ]
  },
  {
   "cell_type": "code",
   "execution_count": 17,
   "metadata": {},
   "outputs": [
    {
     "data": {
      "text/html": [
       "\n",
       "      <iframe id=\"tensorboard-frame-56a2104f464499ec\" width=\"100%\" height=\"800\" frameborder=\"0\">\n",
       "      </iframe>\n",
       "      <script>\n",
       "        (function() {\n",
       "          const frame = document.getElementById(\"tensorboard-frame-56a2104f464499ec\");\n",
       "          const url = new URL(\"/\", window.location);\n",
       "          const port = 6007;\n",
       "          if (port) {\n",
       "            url.port = port;\n",
       "          }\n",
       "          frame.src = url;\n",
       "        })();\n",
       "      </script>\n",
       "    "
      ],
      "text/plain": [
       "<IPython.core.display.HTML object>"
      ]
     },
     "metadata": {},
     "output_type": "display_data"
    }
   ],
   "source": [
    "%tensorboard --logdir 'logs'"
   ]
  },
  {
   "cell_type": "code",
   "execution_count": null,
   "metadata": {},
   "outputs": [],
   "source": []
  }
 ],
 "metadata": {
  "kernelspec": {
   "display_name": "data-science",
   "language": "python",
   "name": "python3"
  },
  "language_info": {
   "codemirror_mode": {
    "name": "ipython",
    "version": 3
   },
   "file_extension": ".py",
   "mimetype": "text/x-python",
   "name": "python",
   "nbconvert_exporter": "python",
   "pygments_lexer": "ipython3",
   "version": "3.8.15"
  },
  "orig_nbformat": 4,
  "vscode": {
   "interpreter": {
    "hash": "82513a0171abd1151da506061ea894c6445a988d5db099bbcdab71e2bb2fcee5"
   }
  }
 },
 "nbformat": 4,
 "nbformat_minor": 2
}
