{
 "cells": [
  {
   "cell_type": "markdown",
   "metadata": {},
   "source": [
    "# using data generators\n",
    "\n"
   ]
  },
  {
   "cell_type": "markdown",
   "metadata": {},
   "source": [
    "## Fine tuning"
   ]
  },
  {
   "cell_type": "code",
   "execution_count": 7,
   "metadata": {},
   "outputs": [
    {
     "name": "stdout",
     "output_type": "stream",
     "text": [
      "The tensorboard extension is already loaded. To reload it, use:\n",
      "  %reload_ext tensorboard\n"
     ]
    }
   ],
   "source": [
    "from keras.preprocessing.image import ImageDataGenerator\n",
    "from keras.utils import load_img, img_to_array, to_categorical\n",
    "from keras.callbacks import ModelCheckpoint\n",
    "from keras.optimizers import Adam\n",
    "from keras.callbacks import EarlyStopping\n",
    "import tensorflow as tf\n",
    "from keras.models import load_model\n",
    "from sklearn.metrics import classification_report, confusion_matrix\n",
    "import numpy as np\n",
    "import seaborn as sns\n",
    "import pandas as pd\n",
    "import datetime\n",
    "from keras.utils import plot_model\n",
    "import cv2\n",
    "# Load the TensorBoard notebook extension\n",
    "%load_ext tensorboard"
   ]
  },
  {
   "cell_type": "markdown",
   "metadata": {},
   "source": [
    "## GPU and version test\n"
   ]
  },
  {
   "cell_type": "code",
   "execution_count": 8,
   "metadata": {},
   "outputs": [
    {
     "name": "stdout",
     "output_type": "stream",
     "text": [
      "Num GPUs: 1\n",
      "Tensorflow version: 2.9.2\n"
     ]
    }
   ],
   "source": [
    "physical_devices = tf.config.list_physical_devices('GPU')\n",
    "print(\"Num GPUs:\", len(physical_devices))\n",
    "# tensorflow version\n",
    "print('Tensorflow version:', tf.__version__)"
   ]
  },
  {
   "cell_type": "code",
   "execution_count": 9,
   "metadata": {},
   "outputs": [],
   "source": [
    "train_dir = '../datasets/dataset/Train/'\n",
    "test_dir = '../datasets/dataset/Test'\n",
    "val2_dir = '../datasets/dataset/Validation'"
   ]
  },
  {
   "cell_type": "markdown",
   "metadata": {},
   "source": [
    "## Data augmentation\n"
   ]
  },
  {
   "cell_type": "code",
   "execution_count": 10,
   "metadata": {},
   "outputs": [],
   "source": [
    "aug_train = ImageDataGenerator(\n",
    "    rescale=1./255,\n",
    "    validation_split=0.2,\n",
    "    zoom_range=0.2,\n",
    "    horizontal_flip=True,\n",
    ")\n",
    "aug_test = ImageDataGenerator(\n",
    "    rescale=1./255,\n",
    ")\n"
   ]
  },
  {
   "cell_type": "code",
   "execution_count": 11,
   "metadata": {},
   "outputs": [
    {
     "name": "stdout",
     "output_type": "stream",
     "text": [
      "Found 37608 images belonging to 2 classes.\n",
      "Found 9401 images belonging to 2 classes.\n",
      "Found 200 images belonging to 2 classes.\n",
      "Found 11649 images belonging to 2 classes.\n",
      "{'female': 0, 'male': 1}\n"
     ]
    }
   ],
   "source": [
    "# HyperParameters\n",
    "TARGET_SIZE = (64, 64)\n",
    "BATCH_SIZE = 32\n",
    "CLASS_MODE = 'binary'  # 2 classes (0, 1)\n",
    "learning_rate = 1e-3\n",
    "epochs = 15\n",
    "\n",
    "\n",
    "\n",
    "\n",
    "# Connecting the ImageDataGenerator objects to our dataset\n",
    "train_generator = aug_train.flow_from_directory(train_dir,\n",
    "                                                 target_size=TARGET_SIZE,\n",
    "                                                 subset='training',\n",
    "                                                 batch_size=BATCH_SIZE,\n",
    "                                                 class_mode=CLASS_MODE)\n",
    "\n",
    "validation_generator = aug_train.flow_from_directory(train_dir,\n",
    "                                                      target_size=TARGET_SIZE,\n",
    "                                                      subset='validation',\n",
    "                                                      batch_size=BATCH_SIZE,\n",
    "                                                      class_mode=CLASS_MODE)\n",
    "# small test set : 200 images\n",
    "test_generator = aug_test.flow_from_directory(test_dir,\n",
    "                                               target_size=TARGET_SIZE,\n",
    "                                               batch_size=BATCH_SIZE,\n",
    "                                               class_mode=CLASS_MODE)\n",
    "# large test set : 11649 images\n",
    "val2_generator = aug_test.flow_from_directory(val2_dir,\n",
    "                                               target_size=TARGET_SIZE,\n",
    "                                               batch_size=BATCH_SIZE,\n",
    "                                               class_mode=CLASS_MODE)\n",
    "\n",
    "num_of_train_samples = train_generator.n\n",
    "num_of_val_samples = validation_generator.n\n",
    "num_of_test_samples = test_generator.n\n",
    "print(train_generator.class_indices)"
   ]
  },
  {
   "cell_type": "code",
   "execution_count": 12,
   "metadata": {},
   "outputs": [],
   "source": [
    "# Importing Libraries\n",
    "from keras.models import Sequential\n",
    "from keras.layers import Conv2D, MaxPooling2D, Dropout, Flatten, Dense,Activation,BatchNormalization, GlobalAveragePooling2D\n",
    "from keras.optimizers import Adam\n",
    "from keras.losses import BinaryCrossentropy\n",
    "from keras.preprocessing.image import ImageDataGenerator\n",
    "from keras.metrics import FalsePositives,FalseNegatives,BinaryAccuracy,TrueNegatives,TruePositives\n",
    "import matplotlib.pyplot as plt"
   ]
  },
  {
   "cell_type": "code",
   "execution_count": 13,
   "metadata": {},
   "outputs": [
    {
     "name": "stdout",
     "output_type": "stream",
     "text": [
      "Metal device set to: Apple M1 Pro\n",
      "\n",
      "systemMemory: 16.00 GB\n",
      "maxCacheSize: 5.33 GB\n",
      "\n"
     ]
    },
    {
     "name": "stderr",
     "output_type": "stream",
     "text": [
      "2023-01-13 17:20:04.180698: I tensorflow/core/common_runtime/pluggable_device/pluggable_device_factory.cc:305] Could not identify NUMA node of platform GPU ID 0, defaulting to 0. Your kernel may not have been built with NUMA support.\n",
      "2023-01-13 17:20:04.182074: I tensorflow/core/common_runtime/pluggable_device/pluggable_device_factory.cc:271] Created TensorFlow device (/job:localhost/replica:0/task:0/device:GPU:0 with 0 MB memory) -> physical PluggableDevice (device: 0, name: METAL, pci bus id: <undefined>)\n",
      "The application cannot be opened for an unexpected reason, error=Error Domain=NSOSStatusErrorDomain Code=-10673 \"(null)\" UserInfo={_LSLine=4087, _LSFunction=_LSOpenStuffCallLocal}\n",
      "The application cannot be opened for an unexpected reason, error=Error Domain=NSOSStatusErrorDomain Code=-10673 \"(null)\" UserInfo={_LSLine=4087, _LSFunction=_LSOpenStuffCallLocal}\n",
      "The application cannot be opened for an unexpected reason, error=Error Domain=NSOSStatusErrorDomain Code=-10673 \"(null)\" UserInfo={_LSLine=4087, _LSFunction=_LSOpenStuffCallLocal}\n"
     ]
    },
    {
     "name": "stdout",
     "output_type": "stream",
     "text": [
      "Model: \"sequential\"\n",
      "_________________________________________________________________\n",
      " Layer (type)                Output Shape              Param #   \n",
      "=================================================================\n",
      " conv2d (Conv2D)             (None, 64, 64, 32)        2432      \n",
      "                                                                 \n",
      " max_pooling2d (MaxPooling2D  (None, 32, 32, 32)       0         \n",
      " )                                                               \n",
      "                                                                 \n",
      " dropout (Dropout)           (None, 32, 32, 32)        0         \n",
      "                                                                 \n",
      " conv2d_1 (Conv2D)           (None, 32, 32, 64)        51264     \n",
      "                                                                 \n",
      " max_pooling2d_1 (MaxPooling  (None, 16, 16, 64)       0         \n",
      " 2D)                                                             \n",
      "                                                                 \n",
      " dropout_1 (Dropout)         (None, 16, 16, 64)        0         \n",
      "                                                                 \n",
      " conv2d_2 (Conv2D)           (None, 16, 16, 64)        102464    \n",
      "                                                                 \n",
      " max_pooling2d_2 (MaxPooling  (None, 8, 8, 64)         0         \n",
      " 2D)                                                             \n",
      "                                                                 \n",
      " dropout_2 (Dropout)         (None, 8, 8, 64)          0         \n",
      "                                                                 \n",
      " flatten (Flatten)           (None, 4096)              0         \n",
      "                                                                 \n",
      " dense (Dense)               (None, 128)               524416    \n",
      "                                                                 \n",
      " dropout_3 (Dropout)         (None, 128)               0         \n",
      "                                                                 \n",
      " dense_1 (Dense)             (None, 1)                 129       \n",
      "                                                                 \n",
      "=================================================================\n",
      "Total params: 680,705\n",
      "Trainable params: 680,705\n",
      "Non-trainable params: 0\n",
      "_________________________________________________________________\n"
     ]
    }
   ],
   "source": [
    "\n",
    "# Building CNN Model\n",
    "model = Sequential()\n",
    "model.add(Conv2D(32, (5,5), padding='same', activation='relu',\n",
    "                input_shape=(64, 64, 3)))\n",
    "model.add(MaxPooling2D(pool_size=(2,2)))\n",
    "model.add(Dropout(0.2))\n",
    "model.add(Conv2D(64, (5,5), padding='same', activation='relu'))\n",
    "model.add(MaxPooling2D(pool_size=(2,2)))\n",
    "model.add(Dropout(0.2))\n",
    "model.add(Conv2D(64, (5,5), padding='same', activation='relu'))\n",
    "model.add(MaxPooling2D(pool_size=(2,2)))\n",
    "model.add(Dropout(0.2))\n",
    "model.add(Flatten())\n",
    "\n",
    "model.add(Dense(128, activation='relu'))\n",
    "model.add(Dropout(0.2))\n",
    "model.add(Dense(1, activation='sigmoid'))\n",
    "\n",
    "model.compile(optimizer=Adam(learning_rate=learning_rate, decay = learning_rate/epochs),\n",
    "              loss=BinaryCrossentropy(),\n",
    "              metrics=[BinaryAccuracy(),\n",
    "                      FalseNegatives(),\n",
    "                      FalsePositives(),\n",
    "                          TrueNegatives(),\n",
    "                            TruePositives(),\n",
    "                      'accuracy',\n",
    "])\n",
    "from ann_visualizer.visualize import ann_viz;\n",
    "\n",
    "ann_viz(model, title=\"CNN Model\")\n",
    "model.summary()\n",
    "\n"
   ]
  },
  {
   "cell_type": "code",
   "execution_count": 14,
   "metadata": {},
   "outputs": [
    {
     "name": "stdout",
     "output_type": "stream",
     "text": [
      "Epoch 1/15\n"
     ]
    },
    {
     "name": "stderr",
     "output_type": "stream",
     "text": [
      "2023-01-13 17:20:24.410343: W tensorflow/core/platform/profile_utils/cpu_utils.cc:128] Failed to get CPU frequency: 0 Hz\n",
      "2023-01-13 17:20:24.841816: I tensorflow/core/grappler/optimizers/custom_graph_optimizer_registry.cc:113] Plugin optimizer for device_type GPU is enabled.\n"
     ]
    },
    {
     "name": "stdout",
     "output_type": "stream",
     "text": [
      "1176/1176 [==============================] - ETA: 0s - loss: 0.3334 - binary_accuracy: 0.8476 - false_negatives: 2825.0000 - false_positives: 2905.0000 - true_negatives: 15690.0000 - true_positives: 16188.0000 - accuracy: 0.8476"
     ]
    },
    {
     "name": "stderr",
     "output_type": "stream",
     "text": [
      "2023-01-13 17:21:01.840956: I tensorflow/core/grappler/optimizers/custom_graph_optimizer_registry.cc:113] Plugin optimizer for device_type GPU is enabled.\n"
     ]
    },
    {
     "name": "stdout",
     "output_type": "stream",
     "text": [
      "1176/1176 [==============================] - 46s 38ms/step - loss: 0.3334 - binary_accuracy: 0.8476 - false_negatives: 2825.0000 - false_positives: 2905.0000 - true_negatives: 15690.0000 - true_positives: 16188.0000 - accuracy: 0.8476 - val_loss: 0.2180 - val_binary_accuracy: 0.9233 - val_false_negatives: 406.0000 - val_false_positives: 315.0000 - val_true_negatives: 4333.0000 - val_true_positives: 4347.0000 - val_accuracy: 0.9233\n",
      "Epoch 2/15\n",
      "1176/1176 [==============================] - 43s 37ms/step - loss: 0.1916 - binary_accuracy: 0.9278 - false_negatives: 1267.0000 - false_positives: 1448.0000 - true_negatives: 17147.0000 - true_positives: 17746.0000 - accuracy: 0.9278 - val_loss: 0.1496 - val_binary_accuracy: 0.9473 - val_false_negatives: 282.0000 - val_false_positives: 213.0000 - val_true_negatives: 4435.0000 - val_true_positives: 4471.0000 - val_accuracy: 0.9473\n",
      "Epoch 3/15\n",
      "1176/1176 [==============================] - 45s 38ms/step - loss: 0.1664 - binary_accuracy: 0.9372 - false_negatives: 1123.0000 - false_positives: 1238.0000 - true_negatives: 17357.0000 - true_positives: 17890.0000 - accuracy: 0.9372 - val_loss: 0.1424 - val_binary_accuracy: 0.9479 - val_false_negatives: 357.0000 - val_false_positives: 133.0000 - val_true_negatives: 4515.0000 - val_true_positives: 4396.0000 - val_accuracy: 0.9479\n",
      "Epoch 4/15\n",
      "1176/1176 [==============================] - 44s 37ms/step - loss: 0.1567 - binary_accuracy: 0.9426 - false_negatives: 1052.0000 - false_positives: 1107.0000 - true_negatives: 17488.0000 - true_positives: 17961.0000 - accuracy: 0.9426 - val_loss: 0.1312 - val_binary_accuracy: 0.9538 - val_false_negatives: 282.0000 - val_false_positives: 152.0000 - val_true_negatives: 4496.0000 - val_true_positives: 4471.0000 - val_accuracy: 0.9538\n",
      "Epoch 5/15\n",
      "1176/1176 [==============================] - 42s 35ms/step - loss: 0.1461 - binary_accuracy: 0.9466 - false_negatives: 973.0000 - false_positives: 1035.0000 - true_negatives: 17560.0000 - true_positives: 18040.0000 - accuracy: 0.9466 - val_loss: 0.1328 - val_binary_accuracy: 0.9522 - val_false_negatives: 143.0000 - val_false_positives: 306.0000 - val_true_negatives: 4342.0000 - val_true_positives: 4610.0000 - val_accuracy: 0.9522\n",
      "Epoch 6/15\n",
      "1176/1176 [==============================] - 42s 36ms/step - loss: 0.1382 - binary_accuracy: 0.9503 - false_negatives: 921.0000 - false_positives: 948.0000 - true_negatives: 17647.0000 - true_positives: 18092.0000 - accuracy: 0.9503 - val_loss: 0.1204 - val_binary_accuracy: 0.9601 - val_false_negatives: 252.0000 - val_false_positives: 123.0000 - val_true_negatives: 4525.0000 - val_true_positives: 4501.0000 - val_accuracy: 0.9601\n",
      "Epoch 7/15\n",
      "1176/1176 [==============================] - 44s 38ms/step - loss: 0.1347 - binary_accuracy: 0.9505 - false_negatives: 895.0000 - false_positives: 965.0000 - true_negatives: 17630.0000 - true_positives: 18118.0000 - accuracy: 0.9505 - val_loss: 0.1028 - val_binary_accuracy: 0.9630 - val_false_negatives: 158.0000 - val_false_positives: 190.0000 - val_true_negatives: 4458.0000 - val_true_positives: 4595.0000 - val_accuracy: 0.9630\n",
      "Epoch 8/15\n",
      "1176/1176 [==============================] - 42s 36ms/step - loss: 0.1307 - binary_accuracy: 0.9530 - false_negatives: 864.0000 - false_positives: 904.0000 - true_negatives: 17691.0000 - true_positives: 18149.0000 - accuracy: 0.9530 - val_loss: 0.1180 - val_binary_accuracy: 0.9584 - val_false_negatives: 303.0000 - val_false_positives: 88.0000 - val_true_negatives: 4560.0000 - val_true_positives: 4450.0000 - val_accuracy: 0.9584\n",
      "Epoch 9/15\n",
      "1176/1176 [==============================] - 43s 37ms/step - loss: 0.1225 - binary_accuracy: 0.9558 - false_negatives: 806.0000 - false_positives: 855.0000 - true_negatives: 17740.0000 - true_positives: 18207.0000 - accuracy: 0.9558 - val_loss: 0.1178 - val_binary_accuracy: 0.9580 - val_false_negatives: 308.0000 - val_false_positives: 87.0000 - val_true_negatives: 4561.0000 - val_true_positives: 4445.0000 - val_accuracy: 0.9580\n",
      "Epoch 10/15\n",
      "1176/1176 [==============================] - 45s 38ms/step - loss: 0.1226 - binary_accuracy: 0.9559 - false_negatives: 800.0000 - false_positives: 859.0000 - true_negatives: 17736.0000 - true_positives: 18213.0000 - accuracy: 0.9559 - val_loss: 0.1032 - val_binary_accuracy: 0.9662 - val_false_negatives: 215.0000 - val_false_positives: 103.0000 - val_true_negatives: 4545.0000 - val_true_positives: 4538.0000 - val_accuracy: 0.9662\n",
      "Epoch 11/15\n",
      "1176/1176 [==============================] - 43s 37ms/step - loss: 0.1213 - binary_accuracy: 0.9569 - false_negatives: 808.0000 - false_positives: 812.0000 - true_negatives: 17783.0000 - true_positives: 18205.0000 - accuracy: 0.9569 - val_loss: 0.1067 - val_binary_accuracy: 0.9652 - val_false_negatives: 156.0000 - val_false_positives: 171.0000 - val_true_negatives: 4477.0000 - val_true_positives: 4597.0000 - val_accuracy: 0.9652\n",
      "Epoch 12/15\n",
      "1176/1176 [==============================] - 43s 36ms/step - loss: 0.1188 - binary_accuracy: 0.9575 - false_negatives: 766.0000 - false_positives: 832.0000 - true_negatives: 17763.0000 - true_positives: 18247.0000 - accuracy: 0.9575 - val_loss: 0.1016 - val_binary_accuracy: 0.9629 - val_false_negatives: 137.0000 - val_false_positives: 212.0000 - val_true_negatives: 4436.0000 - val_true_positives: 4616.0000 - val_accuracy: 0.9629\n",
      "Epoch 13/15\n",
      "1176/1176 [==============================] - 43s 37ms/step - loss: 0.1147 - binary_accuracy: 0.9591 - false_negatives: 760.0000 - false_positives: 780.0000 - true_negatives: 17815.0000 - true_positives: 18253.0000 - accuracy: 0.9591 - val_loss: 0.1060 - val_binary_accuracy: 0.9638 - val_false_negatives: 252.0000 - val_false_positives: 88.0000 - val_true_negatives: 4560.0000 - val_true_positives: 4501.0000 - val_accuracy: 0.9638\n",
      "Epoch 14/15\n",
      "1176/1176 [==============================] - 44s 38ms/step - loss: 0.1152 - binary_accuracy: 0.9590 - false_negatives: 764.0000 - false_positives: 779.0000 - true_negatives: 17816.0000 - true_positives: 18249.0000 - accuracy: 0.9590 - val_loss: 0.1058 - val_binary_accuracy: 0.9653 - val_false_negatives: 142.0000 - val_false_positives: 184.0000 - val_true_negatives: 4464.0000 - val_true_positives: 4611.0000 - val_accuracy: 0.9653\n",
      "Epoch 15/15\n",
      "1176/1176 [==============================] - 45s 38ms/step - loss: 0.1105 - binary_accuracy: 0.9601 - false_negatives: 750.0000 - false_positives: 751.0000 - true_negatives: 17844.0000 - true_positives: 18263.0000 - accuracy: 0.9601 - val_loss: 0.0912 - val_binary_accuracy: 0.9667 - val_false_negatives: 139.0000 - val_false_positives: 174.0000 - val_true_negatives: 4474.0000 - val_true_positives: 4614.0000 - val_accuracy: 0.9667\n"
     ]
    }
   ],
   "source": [
    "log_dir = \"logs/fit/\" + datetime.datetime.now().strftime(\"%Y%m%d-%H%M%S\")\n",
    "tensorboard_callback = tf.keras.callbacks.TensorBoard(log_dir=log_dir, histogram_freq=1)\n",
    "H = model.fit(train_generator,\n",
    "        epochs = epochs,\n",
    "        verbose = 1,\n",
    "        validation_data = validation_generator,\n",
    "        # We don't want to save just the weight, but also the model architecture\n",
    "         callbacks= [ModelCheckpoint('models_jupyter/model_{val_accuracy:.3f}.h5',\n",
    "                                           save_best_only=True,\n",
    "                                           save_weights_only=False,\n",
    "                                           monitor='val_accuracy',\n",
    "                                             ),tensorboard_callback]\n",
    "        )"
   ]
  },
  {
   "cell_type": "markdown",
   "metadata": {},
   "source": [
    "## Model Loading"
   ]
  },
  {
   "cell_type": "code",
   "execution_count": 38,
   "metadata": {},
   "outputs": [],
   "source": [
    "\n",
    "model = tf.keras.models.load_model('../models/model_0.968.h5')"
   ]
  },
  {
   "cell_type": "markdown",
   "metadata": {},
   "source": [
    "# Model Evaluation"
   ]
  },
  {
   "cell_type": "code",
   "execution_count": 39,
   "metadata": {},
   "outputs": [
    {
     "name": "stderr",
     "output_type": "stream",
     "text": [
      "2023-01-12 21:32:36.918734: I tensorflow/core/grappler/optimizers/custom_graph_optimizer_registry.cc:113] Plugin optimizer for device_type GPU is enabled.\n"
     ]
    },
    {
     "name": "stdout",
     "output_type": "stream",
     "text": [
      "7/7 [==============================] - 1s 38ms/step - loss: 0.0690 - binary_accuracy: 0.9800 - false_negatives: 2.0000 - false_positives: 2.0000 - true_negatives: 98.0000 - true_positives: 98.0000 - accuracy: 0.9800\n",
      "Test loss: 0.06904289871454239 Test Acc: 0.9799999594688416\n"
     ]
    }
   ],
   "source": [
    "from keras.metrics import binary_accuracy\n",
    "# Getting test accuracy and loss\n",
    "score = model.evaluate(test_generator)\n",
    "print(f'Test loss: {score[0]} Test Acc: {score[1]}')\n",
    "\n"
   ]
  },
  {
   "cell_type": "code",
   "execution_count": 41,
   "metadata": {},
   "outputs": [
    {
     "data": {
      "image/png": "[encoded data removed]",
      "text/plain": [
       "<Figure size 1000x500 with 2 Axes>"
      ]
     },
     "metadata": {},
     "output_type": "display_data"
    }
   ],
   "source": [
    "import matplotlib.pyplot as plt\n",
    "%matplotlib inline\n",
    "# Plot the model, initialize figure and axes\n",
    "fig, axs = plt.subplots(nrows=1, ncols=2, figsize=(10, 5))\n",
    "\n",
    "# Plot training and validation loss\n",
    "axs[0].plot(H.history['loss'])\n",
    "axs[0].plot(H.history['val_loss'])\n",
    "axs[0].legend(['Training', 'Validation'])\n",
    "axs[0].set_title('Training and Validation Losses')\n",
    "axs[0].set_xlabel('epochs')\n",
    "\n",
    "# Plot training and validation accuracy\n",
    "axs[1].plot(H.history['accuracy'])\n",
    "axs[1].plot(H.history['val_accuracy'])\n",
    "axs[1].legend(['Training', 'Validation'])\n",
    "axs[1].set_title('Training and Validation Accuracy')\n",
    "axs[1].set_xlabel('epochs')\n",
    "\n",
    "plt.show()"
   ]
  },
  {
   "cell_type": "markdown",
   "metadata": {},
   "source": [
    "## Predictions on new test data"
   ]
  },
  {
   "cell_type": "code",
   "execution_count": null,
   "metadata": {},
   "outputs": [],
   "source": [
    "\n",
    "import os\n",
    "\n",
    "# Set the base path to the 'test' folder\n",
    "base_path = '../datasets/dataset/Validation'\n",
    "\n",
    "# Set the paths to the 'male' and 'female' folders\n",
    "male_path = os.path.join(base_path, 'male')\n",
    "female_path = os.path.join(base_path, 'female')\n",
    "\n",
    "# Initialize an empty list to store the images\n",
    "test_images = []\n",
    "# Loop through the 'female' folder and append the images to the list\n",
    "for file_name in os.listdir(female_path):\n",
    "    file_path = os.path.join(female_path, file_name)\n",
    "    img = load_img(file_path)\n",
    "    img = img.resize((64, 64))\n",
    "    img = img_to_array(img)\n",
    "    prediction = model.predict(np.array([img]), verbose=0)\n",
    "    prediction = int(prediction[0][0])\n",
    "    test_images.append(prediction)\n",
    "# Loop through the 'male' folder and append the images to the list\n",
    "for file_name in os.listdir(male_path):\n",
    "    file_path = os.path.join(male_path, file_name)\n",
    "    img = load_img(file_path)\n",
    "    img = img.resize((64, 64))\n",
    "    img = img_to_array(img)\n",
    "    prediction = model.predict(np.array([img]), verbose=0)\n",
    "    prediction = int(prediction[0][0])\n",
    "    test_images.append(prediction)\n",
    "\n",
    "\n",
    "\n",
    "    \n",
    "\n",
    "\n",
    "\n"
   ]
  },
  {
   "cell_type": "markdown",
   "metadata": {},
   "source": [
    "## Classification report & confusion matrix"
   ]
  },
  {
   "cell_type": "code",
   "execution_count": 16,
   "metadata": {},
   "outputs": [
    {
     "name": "stdout",
     "output_type": "stream",
     "text": [
      "              precision    recall  f1-score   support\n",
      "\n",
      "      female       0.96      0.97      0.97      5841\n",
      "        male       0.97      0.96      0.97      5808\n",
      "\n",
      "    accuracy                           0.97     11649\n",
      "   macro avg       0.97      0.97      0.97     11649\n",
      "weighted avg       0.97      0.97      0.97     11649\n",
      "\n"
     ]
    },
    {
     "data": {
      "image/png": "[encoded data removed]",
      "text/plain": [
       "<Figure size 640x480 with 2 Axes>"
      ]
     },
     "metadata": {},
     "output_type": "display_data"
    }
   ],
   "source": [
    "from sklearn.metrics import classification_report,confusion_matrix\n",
    "# val2_generator = 11649 images\n",
    "print(classification_report(val2_generator.classes, test_images, target_names=val2_generator.class_indices.keys()))\n",
    "\n",
    "\n",
    "# Calculate the confusion matrix\n",
    "confusion_matrix = tf.math.confusion_matrix(val2_generator.classes, test_images).numpy()\n",
    "\n",
    "# Plot the confusion matrix using seaborn\n",
    "sns.heatmap(confusion_matrix, annot=True, cmap=\"Blues\", fmt='g',xticklabels=[\"female\", \"male\"], yticklabels=[\"female\", \"male\"])\n",
    "plt.xlabel(\"Predicted label\")\n",
    "plt.ylabel(\"True label\")\n",
    "plt.title(\"Confusion Matrix\")\n",
    "plt.show()"
   ]
  },
  {
   "cell_type": "markdown",
   "metadata": {},
   "source": [
    "# Single prediction, insert the path of any image that you want\n"
   ]
  },
  {
   "cell_type": "code",
   "execution_count": 4,
   "metadata": {},
   "outputs": [
    {
     "ename": "NameError",
     "evalue": "name 'TARGET_SIZE' is not defined",
     "output_type": "error",
     "traceback": [
      "\u001b[0;31m---------------------------------------------------------------------------\u001b[0m",
      "\u001b[0;31mNameError\u001b[0m                                 Traceback (most recent call last)",
      "Cell \u001b[0;32mIn[4], line 9\u001b[0m\n\u001b[1;32m      3\u001b[0m \u001b[39mfrom\u001b[39;00m \u001b[39mkeras\u001b[39;00m\u001b[39m.\u001b[39;00m\u001b[39mpreprocessing\u001b[39;00m \u001b[39mimport\u001b[39;00m image\n\u001b[1;32m      7\u001b[0m \u001b[39m# load and resize image to 200x200\u001b[39;00m\n\u001b[1;32m      8\u001b[0m test_image \u001b[39m=\u001b[39m load_img(\u001b[39m'\u001b[39m\u001b[39m../datasets/little_test_dataset/046.jpg\u001b[39m\u001b[39m'\u001b[39m,\n\u001b[0;32m----> 9\u001b[0m                             target_size\u001b[39m=\u001b[39mTARGET_SIZE)\n\u001b[1;32m     11\u001b[0m \u001b[39m# convert image to numpy array\u001b[39;00m\n\u001b[1;32m     12\u001b[0m images \u001b[39m=\u001b[39m img_to_array(test_image)\n",
      "\u001b[0;31mNameError\u001b[0m: name 'TARGET_SIZE' is not defined"
     ]
    }
   ],
   "source": [
    "# Making a Single Prediction\n",
    "import numpy as np\n",
    "from keras.preprocessing import image\n",
    "\n",
    "\n",
    "\n",
    "# load and resize image to 200x200\n",
    "test_image = load_img('../datasets/little_test_dataset/046.jpg',\n",
    "                            target_size=TARGET_SIZE)\n",
    "\n",
    "# convert image to numpy array\n",
    "images = img_to_array(test_image)\n",
    "# expand dimension of image\n",
    "images = np.expand_dims(images, axis=0)\n",
    "# making prediction with model\n",
    "prediction = model.predict(images)\n",
    "# print prediction\n",
    "\n",
    "print(prediction)\n",
    "if prediction > 0.5:\n",
    "  print('female')\n",
    "else:\n",
    "  print('male')"
   ]
  },
  {
   "cell_type": "markdown",
   "metadata": {},
   "source": [
    "# Tensorboard"
   ]
  },
  {
   "cell_type": "code",
   "execution_count": 12,
   "metadata": {},
   "outputs": [
    {
     "data": {
      "text/plain": [
       "Reusing TensorBoard on port 6007 (pid 7764), started 0:17:27 ago. (Use '!kill 7764' to kill it.)"
      ]
     },
     "metadata": {},
     "output_type": "display_data"
    },
    {
     "data": {
      "text/html": [
       "\n",
       "      <iframe id=\"tensorboard-frame-dcfb3e2fb25af79d\" width=\"100%\" height=\"800\" frameborder=\"0\">\n",
       "      </iframe>\n",
       "      <script>\n",
       "        (function() {\n",
       "          const frame = document.getElementById(\"tensorboard-frame-dcfb3e2fb25af79d\");\n",
       "          const url = new URL(\"/\", window.location);\n",
       "          const port = 6007;\n",
       "          if (port) {\n",
       "            url.port = port;\n",
       "          }\n",
       "          frame.src = url;\n",
       "        })();\n",
       "      </script>\n",
       "    "
      ],
      "text/plain": [
       "<IPython.core.display.HTML object>"
      ]
     },
     "metadata": {},
     "output_type": "display_data"
    }
   ],
   "source": [
    "%tensorboard --logdir 'logs'"
   ]
  },
  {
   "attachments": {},
   "cell_type": "markdown",
   "metadata": {},
   "source": [
    "## Model Visualisation\n"
   ]
  },
  {
   "cell_type": "code",
   "execution_count": 4,
   "metadata": {},
   "outputs": [
    {
     "name": "stdout",
     "output_type": "stream",
     "text": [
      "Metal device set to: Apple M1 Pro\n",
      "\n",
      "systemMemory: 16.00 GB\n",
      "maxCacheSize: 5.33 GB\n",
      "\n"
     ]
    },
    {
     "name": "stderr",
     "output_type": "stream",
     "text": [
      "2023-01-12 00:17:00.833921: I tensorflow/core/common_runtime/pluggable_device/pluggable_device_factory.cc:305] Could not identify NUMA node of platform GPU ID 0, defaulting to 0. Your kernel may not have been built with NUMA support.\n",
      "2023-01-12 00:17:00.834632: I tensorflow/core/common_runtime/pluggable_device/pluggable_device_factory.cc:271] Created TensorFlow device (/job:localhost/replica:0/task:0/device:GPU:0 with 0 MB memory) -> physical PluggableDevice (device: 0, name: METAL, pci bus id: <undefined>)\n"
     ]
    }
   ],
   "source": [
    "from ann_visualizer.visualize import ann_viz;\n",
    "import tensorflow as tf\n",
    "ann_viz(model, title=\"My first neural network\")"
   ]
  }
 ],
 "metadata": {
  "kernelspec": {
   "display_name": "Python 3 (ipykernel)",
   "language": "python",
   "name": "python3"
  },
  "language_info": {
   "codemirror_mode": {
    "name": "ipython",
    "version": 3
   },
   "file_extension": ".py",
   "mimetype": "text/x-python",
   "name": "python",
   "nbconvert_exporter": "python",
   "pygments_lexer": "ipython3",
   "version": "3.8.15"
  },
  "vscode": {
   "interpreter": {
    "hash": "82513a0171abd1151da506061ea894c6445a988d5db099bbcdab71e2bb2fcee5"
   }
  }
 },
 "nbformat": 4,
 "nbformat_minor": 4
}
